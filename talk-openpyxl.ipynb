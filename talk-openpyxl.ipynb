{
 "cells": [
  {
   "cell_type": "markdown",
   "id": "32e9e0823e2298b7",
   "metadata": {
    "editable": true,
    "slideshow": {
     "slide_type": "slide"
    },
    "tags": []
   },
   "source": [
    "# Talk-openpyxl\n",
    "## Reading and writing Microsoft Excel Files with openpyxl"
   ]
  },
  {
   "cell_type": "markdown",
   "id": "fc9218677ac5f8f0",
   "metadata": {
    "editable": true,
    "slideshow": {
     "slide_type": "slide"
    },
    "tags": []
   },
   "source": [
    "![](images/AutomateTheBoringStuff.png)\n",
    "\n",
    "https://automatetheboringstuff.com/\n",
    "\n",
    "https://nostarch.com/automate-boring-stuff-python-3rd-edition"
   ]
  },
  {
   "cell_type": "markdown",
   "id": "4ca16298733e20c2",
   "metadata": {
    "editable": true,
    "slideshow": {
     "slide_type": "notes"
    },
    "tags": []
   },
   "source": [
    "* Introducing one of the handiest Python books\n",
    "* 2nd edition free to read online\n",
    "* 1st part is learn to program, 2nd part shows how to use Python to automate common tasks\n",
    "* Most of what I've learned about openpyxl is from the \"Working with Excel Spreadsheets\"\n",
    "* 3rd edition adds chapters on: Google Sheets, SQLite Databases, Making graphs, Recognizing Text in images, Text to speech and Speech Recognition Engines"
   ]
  },
  {
   "cell_type": "markdown",
   "id": "9272beb3ffd3a9f5",
   "metadata": {
    "editable": true,
    "slideshow": {
     "slide_type": "slide"
    },
    "tags": []
   },
   "source": [
    "## 1 - Open an Excel Workbook"
   ]
  },
  {
   "cell_type": "code",
   "execution_count": 1,
   "id": "97a681d397404e5e",
   "metadata": {
    "editable": true,
    "jupyter": {
     "is_executing": true
    },
    "slideshow": {
     "slide_type": "subslide"
    },
    "tags": []
   },
   "outputs": [
    {
     "data": {
      "text/plain": [
       "<openpyxl.workbook.workbook.Workbook at 0x7fc31b6919d0>"
      ]
     },
     "execution_count": 1,
     "metadata": {},
     "output_type": "execute_result"
    }
   ],
   "source": [
    "from openpyxl import load_workbook\n",
    "\n",
    "wb = load_workbook('FoodInspectionsFirst100.xlsx')\n",
    "wb"
   ]
  },
  {
   "cell_type": "code",
   "execution_count": 2,
   "id": "cde862a5-3bc2-40e3-b3f9-0364cdabcd8b",
   "metadata": {
    "editable": true,
    "slideshow": {
     "slide_type": "subslide"
    },
    "tags": []
   },
   "outputs": [
    {
     "name": "stderr",
     "output_type": "stream",
     "text": [
      "openpyxl does not support .csv file format, please check you can open it with Excel first. Supported formats are: .xlsx,.xlsm,.xltx,.xltm\n"
     ]
    }
   ],
   "source": [
    "# Attempt to load something that isn't an Excel workbook\n",
    "# catch the exception\n",
    "\n",
    "from sys import stderr\n",
    "from openpyxl.utils.exceptions import InvalidFileException\n",
    "\n",
    "try:\n",
    "    load_workbook('FoodInspectionsFirst100.csv')\n",
    "except InvalidFileException as e:\n",
    "    print(e, file=stderr)"
   ]
  },
  {
   "cell_type": "code",
   "execution_count": 3,
   "id": "1b2c1f0f-80a5-4cea-aa14-c417f33a0275",
   "metadata": {
    "editable": true,
    "slideshow": {
     "slide_type": "subslide"
    },
    "tags": []
   },
   "outputs": [
    {
     "name": "stderr",
     "output_type": "stream",
     "text": [
      "[Errno 2] No such file or directory: 'notthere.xlsx'\n"
     ]
    }
   ],
   "source": [
    "# This can also raise FileNotFound and other standard I/O errors\n",
    "try:\n",
    "    load_workbook('notthere.xlsx')\n",
    "except FileNotFoundError as e:\n",
    "    print(e, file=stderr)"
   ]
  },
  {
   "cell_type": "markdown",
   "id": "f270096d-2364-4b6f-9bbc-7f60bebe6b7d",
   "metadata": {
    "editable": true,
    "slideshow": {
     "slide_type": "slide"
    },
    "tags": []
   },
   "source": [
    "## 2 - Create a workbook view, select, add and remove Worksheets"
   ]
  },
  {
   "cell_type": "code",
   "execution_count": 4,
   "id": "37b7b203-641a-4ef2-8b7b-d0b1f82d7b2a",
   "metadata": {
    "editable": true,
    "slideshow": {
     "slide_type": "subslide"
    },
    "tags": []
   },
   "outputs": [
    {
     "data": {
      "text/plain": [
       "<openpyxl.workbook.workbook.Workbook at 0x7fc31b691e50>"
      ]
     },
     "execution_count": 4,
     "metadata": {},
     "output_type": "execute_result"
    }
   ],
   "source": [
    "from openpyxl import Workbook\n",
    "\n",
    "wb = Workbook()\n",
    "wb"
   ]
  },
  {
   "cell_type": "code",
   "execution_count": 5,
   "id": "1e9ddedc-78e2-45df-95ae-b8209eebb988",
   "metadata": {
    "editable": true,
    "slideshow": {
     "slide_type": "subslide"
    },
    "tags": []
   },
   "outputs": [
    {
     "data": {
      "text/plain": [
       "['Sheet']"
      ]
     },
     "execution_count": 5,
     "metadata": {},
     "output_type": "execute_result"
    }
   ],
   "source": [
    "# By default workbook has 1 worksheet\n",
    "wb.sheetnames"
   ]
  },
  {
   "cell_type": "code",
   "execution_count": 6,
   "id": "811d1080-583c-420e-bfa9-abca41d19ccf",
   "metadata": {
    "editable": true,
    "slideshow": {
     "slide_type": "subslide"
    },
    "tags": []
   },
   "outputs": [
    {
     "data": {
      "text/plain": [
       "<Worksheet \"Sheet\">"
      ]
     },
     "execution_count": 6,
     "metadata": {},
     "output_type": "execute_result"
    }
   ],
   "source": [
    "# Get the active sheet (note this also a writeable property)\n",
    "sheet = wb.active\n",
    "sheet"
   ]
  },
  {
   "cell_type": "code",
   "execution_count": 7,
   "id": "4dc904f5-4094-49ee-83dd-36cec70f0ad4",
   "metadata": {
    "editable": true,
    "slideshow": {
     "slide_type": "subslide"
    },
    "tags": []
   },
   "outputs": [
    {
     "data": {
      "text/plain": [
       "<Worksheet \"Sheet\">"
      ]
     },
     "execution_count": 7,
     "metadata": {},
     "output_type": "execute_result"
    }
   ],
   "source": [
    "# You can think of a Workbook as dict of Worksheets\n",
    "sheet = wb['Sheet']\n",
    "sheet"
   ]
  },
  {
   "cell_type": "code",
   "execution_count": 8,
   "id": "7f1aab18-d2b4-426e-bb8b-68d120909367",
   "metadata": {
    "editable": true,
    "slideshow": {
     "slide_type": "subslide"
    },
    "tags": []
   },
   "outputs": [
    {
     "data": {
      "text/plain": [
       "['README']"
      ]
     },
     "execution_count": 8,
     "metadata": {},
     "output_type": "execute_result"
    }
   ],
   "source": [
    "# Change the title of the sheet and check sheetnames\n",
    "sheet.title = \"README\"\n",
    "wb.sheetnames"
   ]
  },
  {
   "cell_type": "code",
   "execution_count": 9,
   "id": "cfac4a27-1768-4916-b4f5-be3bb634496b",
   "metadata": {
    "editable": true,
    "slideshow": {
     "slide_type": "subslide"
    },
    "tags": []
   },
   "outputs": [
    {
     "data": {
      "text/plain": [
       "['README', 'Failed']"
      ]
     },
     "execution_count": 9,
     "metadata": {},
     "output_type": "execute_result"
    }
   ],
   "source": [
    "# Add a sheet to the workbook\n",
    "failed_sheet = wb.create_sheet('Failed')\n",
    "wb.sheetnames"
   ]
  },
  {
   "cell_type": "code",
   "execution_count": 10,
   "id": "7520462b-e240-44c0-bcb9-9f3ac07ef4c0",
   "metadata": {
    "editable": true,
    "slideshow": {
     "slide_type": "subslide"
    },
    "tags": []
   },
   "outputs": [
    {
     "data": {
      "text/plain": [
       "['README', 'Passed', 'Failed']"
      ]
     },
     "execution_count": 10,
     "metadata": {},
     "output_type": "execute_result"
    }
   ],
   "source": [
    "# insert a sheet at specified index\n",
    "passed_sheet = wb.create_sheet('Passed', index=1)\n",
    "wb.sheetnames"
   ]
  },
  {
   "cell_type": "code",
   "execution_count": 11,
   "id": "2eb3f1ca-ed28-4df3-a925-5bba75ea4494",
   "metadata": {
    "editable": true,
    "slideshow": {
     "slide_type": "subslide"
    },
    "tags": []
   },
   "outputs": [
    {
     "data": {
      "text/plain": [
       "<Worksheet \"Passed\">"
      ]
     },
     "execution_count": 11,
     "metadata": {},
     "output_type": "execute_result"
    }
   ],
   "source": [
    "# Make Passed the active worksheet\n",
    "wb.active = passed_sheet\n",
    "wb.active"
   ]
  },
  {
   "cell_type": "code",
   "execution_count": 12,
   "id": "307e6b17-f401-4706-8168-18efe5a42dc1",
   "metadata": {
    "editable": true,
    "slideshow": {
     "slide_type": "subslide"
    },
    "tags": []
   },
   "outputs": [
    {
     "data": {
      "text/plain": [
       "['README', 'Passed', 'Failed', 'DELETEME']"
      ]
     },
     "execution_count": 12,
     "metadata": {},
     "output_type": "execute_result"
    }
   ],
   "source": [
    "# add another Worksheet so we can move it then delete it\n",
    "delete_me = wb.create_sheet('DELETEME')\n",
    "wb.sheetnames"
   ]
  },
  {
   "cell_type": "code",
   "execution_count": 13,
   "id": "e01127e1-1940-48f5-b97a-7d90bff24bb3",
   "metadata": {
    "editable": true,
    "slideshow": {
     "slide_type": "subslide"
    },
    "tags": []
   },
   "outputs": [
    {
     "data": {
      "text/plain": [
       "['README', 'Passed', 'DELETEME', 'Failed']"
      ]
     },
     "execution_count": 13,
     "metadata": {},
     "output_type": "execute_result"
    }
   ],
   "source": [
    "wb.move_sheet(delete_me, offset=-1)\n",
    "wb.sheetnames"
   ]
  },
  {
   "cell_type": "code",
   "execution_count": 14,
   "id": "73c3fc12-9215-42ad-b4c1-ee367e672dca",
   "metadata": {
    "editable": true,
    "slideshow": {
     "slide_type": "subslide"
    },
    "tags": []
   },
   "outputs": [
    {
     "data": {
      "text/plain": [
       "['README', 'Passed', 'Failed']"
      ]
     },
     "execution_count": 14,
     "metadata": {},
     "output_type": "execute_result"
    }
   ],
   "source": [
    "# Now remove the Worksheet\n",
    "wb.remove(delete_me)\n",
    "wb.sheetnames"
   ]
  },
  {
   "cell_type": "code",
   "execution_count": 15,
   "id": "a29580be-c998-47bd-9bc0-c8d96ea6699e",
   "metadata": {
    "editable": true,
    "slideshow": {
     "slide_type": "subslide"
    },
    "tags": []
   },
   "outputs": [
    {
     "name": "stderr",
     "output_type": "stream",
     "text": [
      "DELETEME not present might as well delete the variable\n"
     ]
    }
   ],
   "source": [
    "# You'll get a ValueError if the sheet isn't present\n",
    "try:\n",
    "    wb.remove(delete_me)\n",
    "except ValueError:\n",
    "    print(f\"{delete_me.title} not present might as well delete the variable\", file=stderr)\n",
    "    del delete_me"
   ]
  },
  {
   "cell_type": "markdown",
   "id": "1db14084-7347-495a-98fc-511778a475b5",
   "metadata": {
    "editable": true,
    "slideshow": {
     "slide_type": "slide"
    },
    "tags": []
   },
   "source": [
    "## 3 - Read data from a worksheet"
   ]
  },
  {
   "cell_type": "code",
   "execution_count": 16,
   "id": "2d8acfb9-5f5a-4354-8e71-e692ddae54bd",
   "metadata": {
    "editable": true,
    "slideshow": {
     "slide_type": "subslide"
    },
    "tags": []
   },
   "outputs": [
    {
     "data": {
      "text/plain": [
       "<openpyxl.workbook.workbook.Workbook at 0x7fc308552940>"
      ]
     },
     "execution_count": 16,
     "metadata": {},
     "output_type": "execute_result"
    }
   ],
   "source": [
    "# Load the spreadsheet again\n",
    "inspections_wb = load_workbook('FoodInspectionsFirst100.xlsx')\n",
    "inspections_wb"
   ]
  },
  {
   "cell_type": "code",
   "execution_count": 17,
   "id": "0f6b00f8-af20-426d-8fdc-8b669e1bfc82",
   "metadata": {
    "editable": true,
    "slideshow": {
     "slide_type": "subslide"
    },
    "tags": []
   },
   "outputs": [
    {
     "data": {
      "text/plain": [
       "['FoodInspectionsFirst100']"
      ]
     },
     "execution_count": 17,
     "metadata": {},
     "output_type": "execute_result"
    }
   ],
   "source": [
    "inspections_wb.sheetnames"
   ]
  },
  {
   "cell_type": "code",
   "execution_count": 18,
   "id": "7f290fa2-11d3-40d1-8230-0d66fa2f11f0",
   "metadata": {
    "editable": true,
    "slideshow": {
     "slide_type": "subslide"
    },
    "tags": []
   },
   "outputs": [
    {
     "data": {
      "text/plain": [
       "<Worksheet \"FoodInspectionsFirst100\">"
      ]
     },
     "execution_count": 18,
     "metadata": {},
     "output_type": "execute_result"
    }
   ],
   "source": [
    "del sheet\n",
    "in_sheet = inspections_wb.active\n",
    "in_sheet"
   ]
  },
  {
   "cell_type": "code",
   "execution_count": 19,
   "id": "4a93d444-eb9a-45ea-8083-34e58e9d5d42",
   "metadata": {
    "editable": true,
    "slideshow": {
     "slide_type": "subslide"
    },
    "tags": []
   },
   "outputs": [
    {
     "name": "stdout",
     "output_type": "stream",
     "text": [
      "in_sheet.max_row=101\n",
      "in_sheet.max_column=17\n"
     ]
    }
   ],
   "source": [
    "# boundaries of the sheet max_row and max_column\n",
    "print(f\"{in_sheet.max_row=}\")\n",
    "print(f\"{in_sheet.max_column=}\")"
   ]
  },
  {
   "cell_type": "markdown",
   "id": "8becbc31-5ffb-45b4-86f7-10d01ca09cd8",
   "metadata": {
    "editable": true,
    "slideshow": {
     "slide_type": "skip"
    },
    "tags": []
   },
   "source": [
    "### SPREADSHEET RULES: Row and column indexes start with 1 not 0!"
   ]
  },
  {
   "cell_type": "code",
   "execution_count": 20,
   "id": "6f9296d0-f97f-470f-b38b-35798cb3ee88",
   "metadata": {
    "editable": true,
    "slideshow": {
     "slide_type": "subslide"
    },
    "tags": []
   },
   "outputs": [
    {
     "name": "stdout",
     "output_type": "stream",
     "text": [
      "row=1 col=1 value=Inspection ID\n",
      "row=1 col=2 value=DBA Name\n",
      "row=1 col=3 value=AKA Name\n",
      "row=1 col=4 value=License #\n",
      "row=1 col=5 value=Facility Type\n",
      "row=1 col=6 value=Risk\n",
      "row=1 col=7 value=Address\n",
      "row=1 col=8 value=City\n",
      "row=1 col=9 value=State\n",
      "row=1 col=10 value=Zip\n",
      "row=1 col=11 value=Inspection Date\n",
      "row=1 col=12 value=Inspection Type\n",
      "row=1 col=13 value=Results\n",
      "row=1 col=14 value=Violations\n",
      "row=1 col=15 value=Latitude\n",
      "row=1 col=16 value=Longitude\n",
      "row=1 col=17 value=Location\n"
     ]
    }
   ],
   "source": [
    "# Iterate over the row of headings\n",
    "row = 1\n",
    "for col in range(1, in_sheet.max_column + 1):\n",
    "    cell = in_sheet.cell(row, col)\n",
    "    print(f\"{row=} {col=} value={cell.value}\")"
   ]
  },
  {
   "cell_type": "code",
   "execution_count": 21,
   "id": "ad07d55d-592d-4232-9c73-cab395ad139e",
   "metadata": {
    "editable": true,
    "slideshow": {
     "slide_type": "subslide"
    },
    "tags": []
   },
   "outputs": [
    {
     "data": {
      "text/plain": [
       "{'Inspection ID': 'A',\n",
       " 'DBA Name': 'B',\n",
       " 'AKA Name': 'C',\n",
       " 'License #': 'D',\n",
       " 'Facility Type': 'E',\n",
       " 'Risk': 'F',\n",
       " 'Address': 'G',\n",
       " 'City': 'H',\n",
       " 'State': 'I',\n",
       " 'Zip': 'J',\n",
       " 'Inspection Date': 'K',\n",
       " 'Inspection Type': 'L',\n",
       " 'Results': 'M',\n",
       " 'Violations': 'N',\n",
       " 'Latitude': 'O',\n",
       " 'Longitude': 'P',\n",
       " 'Location': 'Q'}"
      ]
     },
     "execution_count": 21,
     "metadata": {},
     "output_type": "execute_result"
    }
   ],
   "source": [
    "# you can select a cell using a string\n",
    "from string import ascii_uppercase\n",
    "\n",
    "heading_map = {}\n",
    "for col in ascii_uppercase[:17]:\n",
    "    cell = in_sheet[f\"{col}1\"]\n",
    "    heading_map[cell.value] = col\n",
    "heading_map"
   ]
  },
  {
   "cell_type": "code",
   "execution_count": 22,
   "id": "0365f4ef-fc5a-48bc-8a06-e50a0a51fb52",
   "metadata": {
    "editable": true,
    "slideshow": {
     "slide_type": "subslide"
    },
    "tags": []
   },
   "outputs": [
    {
     "data": {
      "text/plain": [
       "{'Fail', 'Pass', 'Pass w/ Conditions'}"
      ]
     },
     "execution_count": 22,
     "metadata": {},
     "output_type": "execute_result"
    }
   ],
   "source": [
    "unique_result_values = set()\n",
    "for i in range(2, in_sheet.max_row):\n",
    "    key = f\"M{i}\"\n",
    "    cell = in_sheet[key]\n",
    "    unique_result_values.add(cell.value)\n",
    "unique_result_values"
   ]
  },
  {
   "cell_type": "code",
   "execution_count": 23,
   "id": "47817e0a-991e-4f3e-b27a-9b00dc881197",
   "metadata": {
    "editable": true,
    "slideshow": {
     "slide_type": "subslide"
    },
    "tags": []
   },
   "outputs": [
    {
     "name": "stdout",
     "output_type": "stream",
     "text": [
      "max_heading_len=15\n"
     ]
    },
    {
     "data": {
      "text/plain": [
       "{'Inspection ID': 1068208,\n",
       " 'DBA Name': 'CHINA COURT RESTAURANT',\n",
       " 'AKA Name': 'CHINA COURT RESTAURANT',\n",
       " 'License #': 2141795,\n",
       " 'Facility Type': 'Restaurant',\n",
       " 'Risk': 'Risk 1 (High)',\n",
       " 'Address': '1146 N MILWAUKEE AVE',\n",
       " 'City': 'CHICAGO',\n",
       " 'State': 'IL',\n",
       " 'Zip': '60642',\n",
       " 'Inspection Date': datetime.datetime(2012, 3, 14, 0, 0),\n",
       " 'Inspection Type': 'License Re-Inspection',\n",
       " 'Results': 'Fail',\n",
       " 'Violations': '18. NO EVIDENCE OF RODENT OR INSECT OUTER OPENINGS PROTECTED/RODENT PROOFED, A WRITTEN LOG SHALL BE MAINTAINED AVAILABLE TO THE INSPECTORS - Comments: FOUND NO PEST CONTROL LOG BOOK ON PREMISES,FRONT/REAR DOORS TO PREMISES WITH 1/4\" MODE OF ENTRY.MUST PROVIDE PEST CONTROL LOG BOOK,RODENT PROOF SAID DOORS ALL ACROSS THE BOTTOMS. | 32. FOOD AND NON-FOOD CONTACT SURFACES PROPERLY DESIGNED, CONSTRUCTED AND MAINTAINED - Comments: SPLASHGUARD AT FRONT EXPOSED HANDSINK IS MISSING MUST PROVIDE,SINK STOPPERS ARE NEEDED FOR THE 3 COMPARTMENT SINK.   | 41. PREMISES MAINTAINED FREE OF LITTER, UNNECESSARY ARTICLES, CLEANING  EQUIPMENT PROPERLY STORED - Comments: DETAIL CLEAN,ORGANIZE REAR STORAGE AREAS AND REMOVE ALL CLUTTER/UNUSED KITCHEN EQUIPMENTS DUE TO POTENTIAL PEST HARBORAGE.',\n",
       " 'Latitude': 41.9024622669496,\n",
       " 'Longitude': -87.6653060946726,\n",
       " 'Location': '(41.902462266949634, -87.66530609467256)'}"
      ]
     },
     "execution_count": 23,
     "metadata": {},
     "output_type": "execute_result"
    }
   ],
   "source": [
    "headings = list(heading_map.keys())\n",
    "max_heading_len = max(len(h) for h in headings)\n",
    "print(f\"{max_heading_len=}\")\n",
    "record = {h: in_sheet[f\"{heading_map[h]}2\"].value for h in heading_map.keys()}\n",
    "record"
   ]
  },
  {
   "cell_type": "markdown",
   "id": "9027d338-5b12-4c87-a45d-b909f7d60401",
   "metadata": {
    "editable": true,
    "slideshow": {
     "slide_type": "slide"
    },
    "tags": []
   },
   "source": [
    "## 4 - Converting between int and str column indexes"
   ]
  },
  {
   "cell_type": "code",
   "execution_count": 24,
   "id": "de232a91-fc93-47ec-a9ae-32fd205aaf64",
   "metadata": {
    "editable": true,
    "slideshow": {
     "slide_type": "subslide"
    },
    "tags": []
   },
   "outputs": [
    {
     "name": "stdout",
     "output_type": "stream",
     "text": [
      "column_index_from_string('AA')=27\n",
      "get_column_letter(27)='AA'\n"
     ]
    }
   ],
   "source": [
    "from openpyxl.utils import (\n",
    "    column_index_from_string,\n",
    "    get_column_letter,\n",
    ")\n",
    "int_col = 27\n",
    "print(f\"{column_index_from_string('AA')=}\")\n",
    "print(f\"{get_column_letter(27)=}\")"
   ]
  },
  {
   "cell_type": "markdown",
   "id": "d8d3bf35-3383-4dd6-aa9b-dd3fd3cb0e6e",
   "metadata": {
    "editable": true,
    "slideshow": {
     "slide_type": "slide"
    },
    "tags": []
   },
   "source": [
    "## 5 - Write data to Spreadsheet and Save Workbook"
   ]
  },
  {
   "cell_type": "code",
   "execution_count": 25,
   "id": "2ddb9239-2fd6-4833-b5d4-e61c6d495e57",
   "metadata": {
    "editable": true,
    "slideshow": {
     "slide_type": "subslide"
    },
    "tags": []
   },
   "outputs": [],
   "source": [
    "# Create a new workbook\n",
    "output_wb = Workbook()\n",
    "output_wb\n",
    "\n",
    "readme_sheet = output_wb.active\n",
    "readme_sheet.title = 'README'\n",
    "\n",
    "pass_sheet = output_wb.create_sheet('PASSED')\n",
    "fail_sheet = output_wb.create_sheet('FAILED')\n",
    "\n"
   ]
  },
  {
   "cell_type": "code",
   "execution_count": 26,
   "id": "2e37c44c-e55d-4d36-9458-590a902ec649",
   "metadata": {
    "editable": true,
    "slideshow": {
     "slide_type": "subslide"
    },
    "tags": []
   },
   "outputs": [],
   "source": [
    "from itertools import count\n",
    "\n",
    "pass_headings = [\n",
    "    'Inspection ID','DBA Name', 'License #',\n",
    "    'Address', 'Inspection Date', 'Results',\n",
    "]\n",
    "\n",
    "fail_headings = pass_headings.copy()\n",
    "fail_headings.append('Violations')\n",
    "\n",
    "all_headings = fail_headings.copy()\n",
    "\n",
    "def write_headings(sheet, headings):\n",
    "    for col, heading in enumerate(headings, 1):\n",
    "        cell = sheet.cell(1, col)\n",
    "        cell.value = heading\n",
    "\n",
    "write_headings(pass_sheet, pass_headings)\n",
    "write_headings(fail_sheet, fail_headings)"
   ]
  },
  {
   "cell_type": "code",
   "execution_count": 27,
   "id": "4c1a1a58-df40-408f-949f-8fb5e08c1e3b",
   "metadata": {
    "editable": true,
    "slideshow": {
     "slide_type": "subslide"
    },
    "tags": []
   },
   "outputs": [
    {
     "name": "stdout",
     "output_type": "stream",
     "text": [
      "{'Inspection ID': 1068208, 'DBA Name': 'CHINA COURT RESTAURANT', 'License #': 2141795, 'Address': '1146 N MILWAUKEE AVE', 'Inspection Date': datetime.datetime(2012, 3, 14, 0, 0), 'Results': 'Fail', 'Violations': '18. NO EVIDENCE OF RODENT OR INSECT OUTER OPENINGS PROTECTED/RODENT PROOFED, A WRITTEN LOG SHALL BE MAINTAINED AVAILABLE TO THE INSPECTORS - Comments: FOUND NO PEST CONTROL LOG BOOK ON PREMISES,FRONT/REAR DOORS TO PREMISES WITH 1/4\" MODE OF ENTRY.MUST PROVIDE PEST CONTROL LOG BOOK,RODENT PROOF SAID DOORS ALL ACROSS THE BOTTOMS. | 32. FOOD AND NON-FOOD CONTACT SURFACES PROPERLY DESIGNED, CONSTRUCTED AND MAINTAINED - Comments: SPLASHGUARD AT FRONT EXPOSED HANDSINK IS MISSING MUST PROVIDE,SINK STOPPERS ARE NEEDED FOR THE 3 COMPARTMENT SINK.   | 41. PREMISES MAINTAINED FREE OF LITTER, UNNECESSARY ARTICLES, CLEANING  EQUIPMENT PROPERLY STORED - Comments: DETAIL CLEAN,ORGANIZE REAR STORAGE AREAS AND REMOVE ALL CLUTTER/UNUSED KITCHEN EQUIPMENTS DUE TO POTENTIAL PEST HARBORAGE.'}\n"
     ]
    }
   ],
   "source": [
    "pass_row_count, fail_row_count = count(1), count(1)\n",
    "for in_row in range(2, in_sheet.max_row + 1):    \n",
    "    record = {}\n",
    "    for heading in all_headings:\n",
    "        col_str = heading_map[heading]\n",
    "        record[heading] = in_sheet[f\"{col_str}{in_row}\"].value\n",
    "    print(record)\n",
    "    # for heading, side in HEADINGS_OF_INTEREST.items():\n",
    "    #     in_col = heading_map[heading]\n",
    "    #     key = f\"{in_col}{in_row}\"\n",
    "    #     record[heading] = in_sheet[key].value\n",
    "    # print(record)\n",
    "    # results = record['Results']\n",
    "    # pass_col_count, fail_col_count = count(1), count(1)\n",
    "    break\n",
    "    \n",
    "\n",
    "\n",
    "            \n",
    "            "
   ]
  },
  {
   "cell_type": "code",
   "execution_count": 28,
   "id": "4b0aa5e1-ac71-406b-9419-e72f3f3d9831",
   "metadata": {
    "editable": true,
    "slideshow": {
     "slide_type": "subslide"
    },
    "tags": []
   },
   "outputs": [],
   "source": [
    "output_wb.save('output.xlsx')"
   ]
  },
  {
   "cell_type": "markdown",
   "id": "544d732b-9223-436f-b749-183a4d473225",
   "metadata": {
    "editable": true,
    "slideshow": {
     "slide_type": "slide"
    },
    "tags": []
   },
   "source": [
    "## 6 - Additional items to fill time.\n",
    "\n",
    "1. You can select ranges i.e. A1:D20\n",
    "2. Inserting rows into a workheet\n",
    "3. If you insert a row into a table, you need to also alter the bounds of the table\n",
    "4. I ran into an issue inserting into a table which was the source of the pivot table"
   ]
  },
  {
   "cell_type": "markdown",
   "id": "66ccda1648806b52",
   "metadata": {
    "editable": true,
    "slideshow": {
     "slide_type": "slide"
    },
    "tags": []
   },
   "source": [
    "## 7 - Resources\n",
    "\n",
    "* https://github.com/jocassid/Talk-openpyxl\n",
    "* https://openpyxl.readthedocs.io"
   ]
  }
 ],
 "metadata": {
  "kernelspec": {
   "display_name": "Python 3 (ipykernel)",
   "language": "python",
   "name": "python3"
  },
  "language_info": {
   "codemirror_mode": {
    "name": "ipython",
    "version": 3
   },
   "file_extension": ".py",
   "mimetype": "text/x-python",
   "name": "python",
   "nbconvert_exporter": "python",
   "pygments_lexer": "ipython3",
   "version": "3.8.10"
  },
  "toc": {
   "base_numbering": 7
  }
 },
 "nbformat": 4,
 "nbformat_minor": 5
}
